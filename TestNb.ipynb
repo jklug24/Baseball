{
 "cells": [
  {
   "cell_type": "code",
   "execution_count": null,
   "metadata": {},
   "outputs": [],
   "source": [
    "from game_engine import *"
   ]
  },
  {
   "cell_type": "code",
   "execution_count": null,
   "metadata": {},
   "outputs": [],
   "source": [
    "info = SimulationInfo(\"SEA\", \"HOU\", \"2024-05-03\", backtest=True, logLevel=1)"
   ]
  },
  {
   "cell_type": "code",
   "execution_count": null,
   "metadata": {},
   "outputs": [],
   "source": [
    "BootstrapGame(info).run(100)"
   ]
  },
  {
   "cell_type": "code",
   "execution_count": null,
   "metadata": {},
   "outputs": [],
   "source": [
    "print(info._log)"
   ]
  },
  {
   "cell_type": "code",
   "execution_count": null,
   "metadata": {},
   "outputs": [],
   "source": [
    "res"
   ]
  },
  {
   "cell_type": "code",
   "execution_count": null,
   "metadata": {},
   "outputs": [],
   "source": [
    "for pitch_type in df.pitch_type:\n",
    "    d = df[df.pitch_type==pitch_type]\n",
    "    d.loc['ball'] = d['ball'] + d['blocked_ball']\n",
    "\n"
   ]
  },
  {
   "cell_type": "code",
   "execution_count": null,
   "metadata": {},
   "outputs": [],
   "source": [
    "d = df[df.pitch_type=='CU']\n",
    "d['ball'] = d['ball'] + d['blocked_ball']\n",
    "d[['ball']]"
   ]
  },
  {
   "cell_type": "code",
   "execution_count": null,
   "metadata": {},
   "outputs": [],
   "source": [
    "d[['ball']]"
   ]
  },
  {
   "cell_type": "code",
   "execution_count": null,
   "metadata": {},
   "outputs": [],
   "source": [
    "probs['field_out'] = probs['field_out'] + probs['fielders_choice'] + probs['sac_fly']\n",
    "probs['walk'] = probs['walk'] + probs['hit_by_pitch']\n",
    "probs = probs[['field_out', 'walk', 'strikeout', 'single', 'double', 'triple', 'home_run']]\n",
    "\n",
    "probs = probs.div(probs.sum(axis=1), axis=0)\n",
    "\n",
    "self.outcomes = probs.columns.to_list()\n",
    "probs = probs.values.flatten().tolist()\n",
    "self.probs = probs"
   ]
  }
 ],
 "metadata": {
  "kernelspec": {
   "display_name": ".venv",
   "language": "python",
   "name": "python3"
  },
  "language_info": {
   "codemirror_mode": {
    "name": "ipython",
    "version": 3
   },
   "file_extension": ".py",
   "mimetype": "text/x-python",
   "name": "python",
   "nbconvert_exporter": "python",
   "pygments_lexer": "ipython3",
   "version": "3.13.1"
  },
  "orig_nbformat": 4,
  "vscode": {
   "interpreter": {
    "hash": "00654274e3b9d3d17fca22820c14f01803d93e9ea573a4b4c8aeff0accd946a0"
   }
  }
 },
 "nbformat": 4,
 "nbformat_minor": 2
}
