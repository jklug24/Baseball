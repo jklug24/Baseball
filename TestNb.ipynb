{
 "cells": [
  {
   "cell_type": "code",
   "execution_count": 1,
   "metadata": {},
   "outputs": [],
   "source": [
    "from game_engine import *\n",
    "from season import *\n",
    "import copy "
   ]
  },
  {
   "cell_type": "code",
   "execution_count": null,
   "metadata": {},
   "outputs": [],
   "source": [
    "season = SeasonSimulator(\"2023-03-29\", \"2023-04-03\", \"2024-03-29\", \"2024-04-03\")"
   ]
  },
  {
   "cell_type": "code",
   "execution_count": null,
   "metadata": {},
   "outputs": [],
   "source": [
    "season.run()"
   ]
  },
  {
   "cell_type": "code",
   "execution_count": null,
   "metadata": {},
   "outputs": [],
   "source": [
    "info = SimulationInfo(\"SEA\", \"HOU\", \"2024-05-03\", backtest=True, logLevel=4, pitchSimulator=\"count\")"
   ]
  },
  {
   "cell_type": "code",
   "execution_count": null,
   "metadata": {},
   "outputs": [],
   "source": [
    "info.home_team.batter().basic_outcome_probs"
   ]
  },
  {
   "cell_type": "code",
   "execution_count": 6,
   "metadata": {},
   "outputs": [],
   "source": [
    "info1 = copy.deepcopy(info)\n",
    "GameSimulator(info1).run()"
   ]
  },
  {
   "cell_type": "code",
   "execution_count": null,
   "metadata": {},
   "outputs": [],
   "source": [
    "info.statcast"
   ]
  },
  {
   "cell_type": "code",
   "execution_count": 6,
   "metadata": {},
   "outputs": [],
   "source": [
    "x = list(info.home_team.pitcher().stats.columns)\n",
    "stats = info.home_team.pitcher().stats"
   ]
  },
  {
   "cell_type": "code",
   "execution_count": null,
   "metadata": {},
   "outputs": [],
   "source": [
    "stats.events.unique()"
   ]
  },
  {
   "cell_type": "code",
   "execution_count": null,
   "metadata": {},
   "outputs": [],
   "source": []
  },
  {
   "cell_type": "code",
   "execution_count": null,
   "metadata": {},
   "outputs": [],
   "source": [
    "statcast(start_dt=\"2023-03-29\", end_dt=\"2024-05-03\")"
   ]
  },
  {
   "cell_type": "code",
   "execution_count": null,
   "metadata": {},
   "outputs": [],
   "source": [
    "for pitch_type in df.pitch_type:\n",
    "    d = df[df.pitch_type==pitch_type]\n",
    "    d.loc['ball'] = d['ball'] + d['blocked_ball']\n",
    "\n"
   ]
  },
  {
   "cell_type": "code",
   "execution_count": null,
   "metadata": {},
   "outputs": [],
   "source": [
    "d = df[df.pitch_type=='CU']\n",
    "d['ball'] = d['ball'] + d['blocked_ball']\n",
    "d[['ball']]"
   ]
  },
  {
   "cell_type": "code",
   "execution_count": null,
   "metadata": {},
   "outputs": [],
   "source": [
    "d[['ball']]"
   ]
  },
  {
   "cell_type": "code",
   "execution_count": null,
   "metadata": {},
   "outputs": [],
   "source": [
    "probs['field_out'] = probs['field_out'] + probs['fielders_choice'] + probs['sac_fly']\n",
    "probs['walk'] = probs['walk'] + probs['hit_by_pitch']\n",
    "probs = probs[['field_out', 'walk', 'strikeout', 'single', 'double', 'triple', 'home_run']]\n",
    "\n",
    "probs = probs.div(probs.sum(axis=1), axis=0)\n",
    "\n",
    "self.outcomes = probs.columns.to_list()\n",
    "probs = probs.values.flatten().tolist()\n",
    "self.probs = probs"
   ]
  }
 ],
 "metadata": {
  "kernelspec": {
   "display_name": ".venv",
   "language": "python",
   "name": "python3"
  },
  "language_info": {
   "codemirror_mode": {
    "name": "ipython",
    "version": 3
   },
   "file_extension": ".py",
   "mimetype": "text/x-python",
   "name": "python",
   "nbconvert_exporter": "python",
   "pygments_lexer": "ipython3",
   "version": "3.13.1"
  },
  "orig_nbformat": 4
 },
 "nbformat": 4,
 "nbformat_minor": 2
}
